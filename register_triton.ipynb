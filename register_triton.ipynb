{
 "cells": [
  {
   "cell_type": "code",
   "execution_count": 4,
   "metadata": {},
   "outputs": [
    {
     "name": "stderr",
     "output_type": "stream",
     "text": [
      "Found the config file in: config.json\n"
     ]
    }
   ],
   "source": [
    "from azure.ai.ml import MLClient\n",
    "from azure.identity import DefaultAzureCredential, InteractiveBrowserCredential\n",
    "\n",
    "ml_client = MLClient.from_config(credential=InteractiveBrowserCredential(), path=\"./config.json\")"
   ]
  },
  {
   "cell_type": "code",
   "execution_count": 5,
   "metadata": {},
   "outputs": [
    {
     "name": "stderr",
     "output_type": "stream",
     "text": [
      "\u001b[32mUploading models (21.63 MBs): 100%|##########| 21626417/21626417 [00:00<00:00, 32420038.85it/s]\n",
      "\u001b[39m\n",
      "\n"
     ]
    },
    {
     "data": {
      "text/plain": [
       "Model({'job_name': None, 'intellectual_property': None, 'is_anonymous': False, 'auto_increment_version': False, 'auto_delete_setting': None, 'name': 'triton_model_register_test_v2', 'description': None, 'tags': {}, 'properties': {}, 'print_as_yaml': False, 'id': '/subscriptions/892ddbaf-b7fb-4d07-8dcb-492fc06fb4d8/resourceGroups/row-fl-tst-rg-digitaloperations-ai/providers/Microsoft.MachineLearningServices/workspaces/row-fl-tst-mlw-digitalops-ai/models/triton_model_register_test_v2/versions/1', 'Resource__source_path': '', 'base_path': 'c:\\\\Users\\\\C129583\\\\Documents\\\\argus repo\\\\fuzzy-umbrella', 'creation_context': <azure.ai.ml.entities._system_data.SystemData object at 0x00000210DD63E200>, 'serialize': <msrest.serialization.Serializer object at 0x00000210DD816380>, 'version': '1', 'latest_version': None, 'path': 'azureml://subscriptions/892ddbaf-b7fb-4d07-8dcb-492fc06fb4d8/resourceGroups/row-fl-tst-rg-digitaloperations-ai/workspaces/row-fl-tst-mlw-digitalops-ai/datastores/workspaceblobstore/paths/LocalUpload/b61c8dc7894412de894de03c3e452665/models', 'datastore': None, 'utc_time_created': None, 'flavors': None, 'arm_type': 'model_version', 'type': 'triton_model', 'stage': 'Development'})"
      ]
     },
     "execution_count": 5,
     "metadata": {},
     "output_type": "execute_result"
    }
   ],
   "source": [
    "from azure.ai.ml.entities import Model\n",
    "from azure.ai.ml.constants import AssetTypes\n",
    "\n",
    "file_model = Model(\n",
    "    path=\"./register_model/models\",\n",
    "    type=AssetTypes.TRITON_MODEL,\n",
    "    name=\"triton_model_register_test_v2\",\n",
    ")\n",
    "ml_client.models.create_or_update(file_model)"
   ]
  }
 ],
 "metadata": {
  "kernelspec": {
   "display_name": ".py310",
   "language": "python",
   "name": "python3"
  },
  "language_info": {
   "codemirror_mode": {
    "name": "ipython",
    "version": 3
   },
   "file_extension": ".py",
   "mimetype": "text/x-python",
   "name": "python",
   "nbconvert_exporter": "python",
   "pygments_lexer": "ipython3",
   "version": "3.10.11"
  }
 },
 "nbformat": 4,
 "nbformat_minor": 2
}
